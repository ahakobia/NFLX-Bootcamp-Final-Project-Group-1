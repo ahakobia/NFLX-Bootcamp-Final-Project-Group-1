{
 "cells": [
  {
   "cell_type": "code",
   "execution_count": null,
   "id": "aea6ea83",
   "metadata": {},
   "outputs": [],
   "source": [
    "import pandas as pd\n",
    "import matplotlib as plt\n",
    "import os\n",
    "import numpy as np\n",
    "import plotly.express as px\n",
    "import scipy.stats as sts\n",
    "from sklearn import datasets\n",
    "import statsmodels.api as sm"
   ]
  },
  {
   "cell_type": "code",
   "execution_count": null,
   "id": "4283285f",
   "metadata": {},
   "outputs": [],
   "source": [
    "accident_df=pd.read_csv(\"Resources/accident-data.csv\")\n",
    "accident_df.head()"
   ]
  },
  {
   "cell_type": "code",
   "execution_count": null,
   "id": "b6d79758",
   "metadata": {},
   "outputs": [],
   "source": [
    "accident_df.info()"
   ]
  },
  {
   "cell_type": "code",
   "execution_count": null,
   "id": "f4b307a1",
   "metadata": {},
   "outputs": [],
   "source": [
    "#Grouping date by month\n",
    "s = pd.to_datetime(pd.Series(cleaned[\"date\"]), format='%d/%m/%Y')\n",
    "s.index = s.dt.to_period('m')\n",
    "s = s.groupby(level=0).size()\n",
    "\n",
    "s = s.reindex(pd.period_range(s.index.min(), s.index.max(), freq='m'), fill_value=0)\n",
    "print (s)"
   ]
  },
  {
   "cell_type": "code",
   "execution_count": null,
   "id": "16d0e3d6",
   "metadata": {},
   "outputs": [],
   "source": [
    "#Plot accidents by month\n",
    "s.plot.bar()"
   ]
  },
  {
   "cell_type": "code",
   "execution_count": null,
   "id": "79d356d3",
   "metadata": {},
   "outputs": [],
   "source": [
    "cleaned = accident_df.drop(columns=[\"accident_year\",\"accident_reference\"])"
   ]
  },
  {
   "cell_type": "code",
   "execution_count": null,
   "id": "d743b334",
   "metadata": {},
   "outputs": [],
   "source": [
    "cleaned.loc[cleaned[\"accident_severity\"] ==3,\"severity\"] = \"Slight\"\n",
    "cleaned.loc[cleaned[\"accident_severity\"] ==2,\"severity\"] = \"Serious\"\n",
    "cleaned.loc[cleaned[\"accident_severity\"] ==1,\"severity\"] = \"Fatal\""
   ]
  },
  {
   "cell_type": "code",
   "execution_count": null,
   "id": "8e5ca7da",
   "metadata": {},
   "outputs": [],
   "source": [
    "cleaned.loc[cleaned[\"road_surface_conditions\"] ==1,\"road_surface\"] = \"Dry\"\n",
    "cleaned.loc[cleaned[\"road_surface_conditions\"] ==2,\"road_surface\"] = \"Wet or damp\"\n",
    "cleaned.loc[cleaned[\"road_surface_conditions\"] ==3,\"road_surface\"] = \"Snow\"\n",
    "cleaned.loc[cleaned[\"road_surface_conditions\"] ==4,\"road_surface\"] = \"Frost or ice\"\n",
    "cleaned.loc[cleaned[\"road_surface_conditions\"] ==5,\"road_surface\"] = \"Flood over 3cm. deep\"\n",
    "cleaned.loc[cleaned[\"road_surface_conditions\"] ==6,\"road_surface\"] = \"Oil or diesel\"\n",
    "cleaned.loc[cleaned[\"road_surface_conditions\"] ==7,\"road_surface\"] = \"Mud\"\n",
    "cleaned.loc[cleaned[\"road_surface_conditions\"] ==-1,\"road_surface\"] = \"Data missing or out of range\"\n",
    "cleaned.loc[cleaned[\"road_surface_conditions\"] ==9,\"road_surface\"] = \"unknown (self reported)\""
   ]
  },
  {
   "cell_type": "markdown",
   "id": "b3a8cece",
   "metadata": {},
   "source": [
    "## Linear Regression on Road Conditions vs # of casualties"
   ]
  },
  {
   "cell_type": "code",
   "execution_count": null,
   "id": "1c9f905d",
   "metadata": {},
   "outputs": [],
   "source": [
    "y = pd.get_dummies(cleaned.road_surface, prefix='Road')\n",
    "print(y.head())"
   ]
  },
  {
   "cell_type": "code",
   "execution_count": null,
   "id": "ee6f42c0",
   "metadata": {},
   "outputs": [],
   "source": [
    "result = pd.concat([cleaned, y], axis=1)\n",
    "result.head()"
   ]
  },
  {
   "cell_type": "code",
   "execution_count": null,
   "id": "b7d729d0",
   "metadata": {},
   "outputs": [],
   "source": [
    "X = result[['Road_Dry',\"Road_Flood over 3cm. deep\",\"Road_Frost or ice\",\"Road_Snow\",\"Road_Wet or damp\", \"Road_unknown (self reported)\"]]\n",
    "y = result['number_of_casualties']\n",
    "X = sm.add_constant(X)\n",
    "model = sm.OLS(y, X)\n",
    "results = model.fit()\n",
    "print(results.summary())"
   ]
  },
  {
   "cell_type": "code",
   "execution_count": null,
   "id": "5fc62f78",
   "metadata": {},
   "outputs": [],
   "source": [
    "px.box(cleaned, x=\"number_of_casualties\", y=\"road_surface\", orientation=\"h\")"
   ]
  },
  {
   "cell_type": "markdown",
   "id": "f1d0328a",
   "metadata": {},
   "source": [
    "## Other work"
   ]
  },
  {
   "cell_type": "markdown",
   "id": "9ac0c34d",
   "metadata": {},
   "source": [
    "1. What do we do with unknown data?\n",
    "2. Do we want to include actual description instead of number?\n",
    "3. What columns to drop?\n",
    "4. How to categorize time? (morning, night, 8:00am, 9:00am)\n",
    "5. making regression using only categorical data\n",
    "6. What are our hypotheses?"
   ]
  },
  {
   "cell_type": "code",
   "execution_count": null,
   "id": "245610f4",
   "metadata": {
    "scrolled": false
   },
   "outputs": [],
   "source": [
    "#px.set_mapbox_access_token(open(\".mapbox_token\").read())\n",
    "#df = px.accident_df.carshare()\n",
    "fig =px.scatter_mapbox(data_frame=accident_df, lat=\"latitude\", lon=\"longitude\", color=\"accident_severity\")\n",
    "fig.show()"
   ]
  },
  {
   "cell_type": "code",
   "execution_count": null,
   "id": "f8525590",
   "metadata": {},
   "outputs": [],
   "source": [
    "fig=px.parallel_coordinates(cleaned,dimensions=['accident_severity',\"number_of_casualties\"], color=\"accident_severity\")\n",
    "fig.show()"
   ]
  },
  {
   "cell_type": "code",
   "execution_count": null,
   "id": "1d035a06",
   "metadata": {},
   "outputs": [],
   "source": [
    "sample = cleaned.sample(frac = 0.5)\n",
    "population = cleaned\n",
    "sts.ttest_1samp(sample, population.mean())"
   ]
  },
  {
   "cell_type": "code",
   "execution_count": null,
   "id": "f0d7bbce",
   "metadata": {},
   "outputs": [],
   "source": [
    "px.histogram(cleaned, \"road_surface\")"
   ]
  },
  {
   "cell_type": "code",
   "execution_count": null,
   "id": "c45b72ea",
   "metadata": {},
   "outputs": [],
   "source": [
    "dry = cleaned[cleaned[\"road_surface\"] == \"Dry\"][\"number_of_casualties\"] \n",
    "wod = cleaned[cleaned[\"road_surface\"] == \"Wet or damp\"][\"number_of_casualties\"] "
   ]
  },
  {
   "cell_type": "code",
   "execution_count": null,
   "id": "c65a88cf",
   "metadata": {},
   "outputs": [],
   "source": [
    "#ANOVA test\n",
    "sts.f_oneway(dry, wod)"
   ]
  },
  {
   "cell_type": "code",
   "execution_count": null,
   "id": "bac64b02",
   "metadata": {},
   "outputs": [],
   "source": []
  }
 ],
 "metadata": {
  "kernelspec": {
   "display_name": "Python 3 (ipykernel)",
   "language": "python",
   "name": "python3"
  },
  "language_info": {
   "codemirror_mode": {
    "name": "ipython",
    "version": 3
   },
   "file_extension": ".py",
   "mimetype": "text/x-python",
   "name": "python",
   "nbconvert_exporter": "python",
   "pygments_lexer": "ipython3",
   "version": "3.9.7"
  }
 },
 "nbformat": 4,
 "nbformat_minor": 5
}
