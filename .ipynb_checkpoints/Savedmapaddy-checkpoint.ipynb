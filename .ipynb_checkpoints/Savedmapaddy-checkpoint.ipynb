{
 "cells": [
  {
   "cell_type": "code",
   "execution_count": 4,
   "id": "9e85ccf9",
   "metadata": {},
   "outputs": [],
   "source": [
    "import pandas as pd\n",
    "import os\n",
    "import numpy as np\n",
    "import plotly.express as px\n",
    "import geopy\n",
    "from geopy.geocoders import Nominatim\n",
    "from geopy.extra.rate_limiter import RateLimiter\n",
    "import geocoder\n",
    "import tqdm as tqdm\n",
    "from tqdm.auto import tqdm\n",
    "tqdm.pandas()\n",
    "import time\n",
    "import sys\n",
    "from geopy.exc import GeocoderTimedOut, GeocoderQuotaExceeded\n",
    "import time"
   ]
  },
  {
   "cell_type": "code",
   "execution_count": 153,
   "id": "fc85fa3c",
   "metadata": {},
   "outputs": [
    {
     "data": {
      "text/plain": [
       "'Great Eastern Road, Stratford Marsh, London Borough of Newham, Greater London, England, E15 1DA, United Kingdom'"
      ]
     },
     "execution_count": 153,
     "metadata": {},
     "output_type": "execute_result"
    }
   ],
   "source": [
    "rds = os.path.join('backup','ndf.csv')\n",
    "rds_df = pd.read_csv(rds)\n",
    "rds_df['city'][3]"
   ]
  },
  {
   "cell_type": "code",
   "execution_count": 145,
   "id": "eeb5face",
   "metadata": {},
   "outputs": [],
   "source": [
    "def splitAddress(address):\n",
    "    split = ','       \n",
    "    ad = address.strip()\n",
    "\n",
    "    try:\n",
    "        if(split in ad):\n",
    "            addr = ad.split(split)            \n",
    "            if(len(addr)2):\n",
    "                addr1 = addr[4].strip().split(\",\")\n",
    "                if len(addr1)<2:\n",
    "                    addr2 = addr1[1].strip().split(\" \")                         \n",
    "\n",
    "                    if len(addr2)==2:                        \n",
    "                        return addr[0], addr1[0], addr2[0], addr2[1]\n",
    "                    else:\n",
    "                        return \"0\",\"0\",\"0\",\"0\"                \n",
    "                else:\n",
    "                    return \"0\",\"0\",\"0\",\"0\"                \n",
    "            else:\n",
    "                return \"0\",\"0\",\"0\",\"0\"                \n",
    "        else:            \n",
    "            return \"0\",\"0\",\"0\",\"0\"\n",
    "    except ValueError as e:\n",
    "        print(addr[0], addr1[0], addr2[0], addr2[1])\n",
    "        print(e)"
   ]
  },
  {
   "cell_type": "code",
   "execution_count": 151,
   "id": "4c618991",
   "metadata": {},
   "outputs": [
    {
     "ename": "SyntaxError",
     "evalue": "invalid syntax (752513207.py, line 1)",
     "output_type": "error",
     "traceback": [
      "\u001b[0;36m  File \u001b[0;32m\"/var/folders/_l/n59lfx993pz8wm0c3316b3vm0000gn/T/ipykernel_20588/752513207.py\"\u001b[0;36m, line \u001b[0;32m1\u001b[0m\n\u001b[0;31m    x = (146-208, Dowdeswell Close, Roehampton, London, Greater London, England, SW15 5RL, United Kingdom)\u001b[0m\n\u001b[0m                             ^\u001b[0m\n\u001b[0;31mSyntaxError\u001b[0m\u001b[0;31m:\u001b[0m invalid syntax\n"
     ]
    }
   ],
   "source": [
    "x = (146-208, Dowdeswell Close, Roehampton, London, Greater London, England, SW15 5RL, United Kingdom)\n",
    "x[10].strip().split(\",\")"
   ]
  },
  {
   "cell_type": "code",
   "execution_count": 125,
   "id": "c4542d95",
   "metadata": {},
   "outputs": [
    {
     "data": {
      "text/plain": [
       "0        146-208, Dowdeswell Close, Roehampton, London,...\n",
       "1        Uncle Tom's Cabin, 394B, Wandsworth Road, Stoc...\n",
       "2        Greystones, 5, Hall Road, St. John's Wood, Cit...\n",
       "3        Great Eastern Road, Stratford Marsh, London Bo...\n",
       "4        Flight Centre, 159, Oxford Street, East Maryle...\n",
       "                               ...                        \n",
       "91194                                                  NaN\n",
       "91195                                                  NaN\n",
       "91196                                                  NaN\n",
       "91197                                                  NaN\n",
       "91198                                                  NaN\n",
       "Name: city, Length: 91199, dtype: object"
      ]
     },
     "execution_count": 125,
     "metadata": {},
     "output_type": "execute_result"
    }
   ],
   "source": [
    "rds_df['city']"
   ]
  },
  {
   "cell_type": "code",
   "execution_count": 106,
   "id": "20996ba2",
   "metadata": {},
   "outputs": [],
   "source": [
    "df2 = rds_df[\"city\"].apply(lambda x: x.split(\",\"))\n",
    "city = df2.apply(lambda x: \"\".join(x[0].split()[1:]))\n",
    "result = pd.DataFrame(zip(city), columns=[\"city\"])"
   ]
  },
  {
   "cell_type": "code",
   "execution_count": 107,
   "id": "9a793afe",
   "metadata": {},
   "outputs": [
    {
     "data": {
      "text/plain": [
       "[\"Uncle Tom's Cabin\",\n",
       " ' 394B',\n",
       " ' Wandsworth Road',\n",
       " ' Stockwell',\n",
       " ' London',\n",
       " ' Greater London',\n",
       " ' England',\n",
       " ' SW8 4PH',\n",
       " ' United Kingdom']"
      ]
     },
     "execution_count": 107,
     "metadata": {},
     "output_type": "execute_result"
    }
   ],
   "source": [
    "df2[1]"
   ]
  },
  {
   "cell_type": "code",
   "execution_count": 108,
   "id": "4a05de67",
   "metadata": {},
   "outputs": [
    {
     "data": {
      "text/plain": [
       "\"Tom's,Cabin\""
      ]
     },
     "execution_count": 108,
     "metadata": {},
     "output_type": "execute_result"
    }
   ],
   "source": [
    "city[1]"
   ]
  },
  {
   "cell_type": "code",
   "execution_count": null,
   "id": "425b8466",
   "metadata": {},
   "outputs": [],
   "source": []
  }
 ],
 "metadata": {
  "kernelspec": {
   "display_name": "Python 3 (ipykernel)",
   "language": "python",
   "name": "python3"
  },
  "language_info": {
   "codemirror_mode": {
    "name": "ipython",
    "version": 3
   },
   "file_extension": ".py",
   "mimetype": "text/x-python",
   "name": "python",
   "nbconvert_exporter": "python",
   "pygments_lexer": "ipython3",
   "version": "3.9.7"
  }
 },
 "nbformat": 4,
 "nbformat_minor": 5
}
